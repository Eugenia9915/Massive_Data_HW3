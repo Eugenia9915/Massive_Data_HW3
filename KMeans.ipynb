{
 "cells": [
  {
   "cell_type": "code",
   "execution_count": 1,
   "id": "a1c9d944",
   "metadata": {},
   "outputs": [],
   "source": [
    "from pyspark import SparkConf, SparkContext\n",
    "import math\n",
    "from operator import add"
   ]
  },
  {
   "cell_type": "code",
   "execution_count": 2,
   "id": "9f83bc9f",
   "metadata": {},
   "outputs": [],
   "source": [
    "sc.stop()"
   ]
  },
  {
   "cell_type": "code",
   "execution_count": 3,
   "id": "c6718bf0",
   "metadata": {},
   "outputs": [],
   "source": [
    "conf = SparkConf().setMaster(\"local\").setAppName(\"HW3\")\n",
    "sc = SparkContext(conf=conf)\n",
    "data = sc.textFile(\"data.txt\")\n",
    "c1 = sc.textFile(\"c1.txt\")\n",
    "c2 = sc.textFile(\"c2.txt\")"
   ]
  },
  {
   "cell_type": "code",
   "execution_count": 4,
   "id": "2cbc57a2",
   "metadata": {},
   "outputs": [],
   "source": [
    "iters = 20\n",
    "k = 10"
   ]
  },
  {
   "cell_type": "code",
   "execution_count": 5,
   "id": "5a9e1175",
   "metadata": {},
   "outputs": [],
   "source": [
    "def mapper1(line):\n",
    "    tmp = line.split(\" \")\n",
    "    dim = []\n",
    "    for i in range (len(tmp)):\n",
    "        dim.append(float(tmp[i]))\n",
    "    return dim"
   ]
  },
  {
   "cell_type": "code",
   "execution_count": 6,
   "id": "f6f08cfd",
   "metadata": {},
   "outputs": [],
   "source": [
    "c1 = c1.map(mapper1)\n",
    "c2 = c2.map(mapper1)\n",
    "data = data.map(mapper1)"
   ]
  },
  {
   "cell_type": "code",
   "execution_count": 7,
   "id": "8accd9aa",
   "metadata": {
    "scrolled": true
   },
   "outputs": [],
   "source": [
    "cen1 = sc.broadcast(c1.collect())\n",
    "cen2 = sc.broadcast(c2.collect())"
   ]
  },
  {
   "cell_type": "code",
   "execution_count": 8,
   "id": "7a26cfe4",
   "metadata": {},
   "outputs": [],
   "source": [
    "def Euclidean1(x):\n",
    "    min_dist = float(\"+inf\")\n",
    "    clust = 0\n",
    "    for i in range (len(cen1.value)):\n",
    "        t = 0\n",
    "        for j in range (len(x)):\n",
    "            t += ((x[j] - cen1.value[i][j])**2)\n",
    "        t = math.sqrt(t)\n",
    "        if t < min_dist:\n",
    "            clust = i\n",
    "            min_dist = t\n",
    "    return(clust,min_dist**2,x)"
   ]
  },
  {
   "cell_type": "code",
   "execution_count": 9,
   "id": "4c8193a8",
   "metadata": {},
   "outputs": [],
   "source": [
    "def Euclidean2(x):\n",
    "    min_dist = float(\"+inf\")\n",
    "    clust = 0\n",
    "    for i in range (len(cen2.value)):\n",
    "        t = 0\n",
    "        for j in range (len(x)):\n",
    "            t += ((x[j] - cen2.value[i][j])**2)\n",
    "        t = math.sqrt(t)\n",
    "        if t < min_dist:\n",
    "            clust = i\n",
    "            min_dist = t\n",
    "    return(clust,min_dist**2,x)"
   ]
  },
  {
   "cell_type": "code",
   "execution_count": 10,
   "id": "e916b4a0",
   "metadata": {},
   "outputs": [],
   "source": [
    "def Manhattan1(x):\n",
    "    min_dist = float(\"+inf\")\n",
    "    clust = 0\n",
    "    for i in range (len(cen_1.value)):\n",
    "        t = 0\n",
    "        for j in range (len(x)):\n",
    "            t += (abs(x[j]-cen_1.value[i][j]))\n",
    "        if t < min_dist:\n",
    "            clust = i\n",
    "            min_dist = t\n",
    "    return (clust,min_dist,x)"
   ]
  },
  {
   "cell_type": "code",
   "execution_count": 11,
   "id": "09890527",
   "metadata": {},
   "outputs": [],
   "source": [
    "def Manhattan2(x):\n",
    "    min_dist = float(\"+inf\")\n",
    "    clust = 0\n",
    "    for i in range (len(cen_2.value)):\n",
    "        t = 0\n",
    "        for j in range (len(x)):\n",
    "            t += (abs(x[j]-cen_2.value[i][j]))\n",
    "        if t < min_dist:\n",
    "            clust = i\n",
    "            min_dist = t\n",
    "    return (clust,min_dist,x)"
   ]
  },
  {
   "cell_type": "code",
   "execution_count": 12,
   "id": "096dace0",
   "metadata": {},
   "outputs": [],
   "source": [
    "def reduce1(x):\n",
    "    t = []\n",
    "    for j in range (len(x[1][0])): #num of features\n",
    "        cnt = 0\n",
    "        for i in range (len(x[1])): #num of same clust\n",
    "            cnt += x[1][i][j]\n",
    "        t.append(cnt/len(x[1]))\n",
    "    return (t)"
   ]
  },
  {
   "cell_type": "code",
   "execution_count": 13,
   "id": "0915241f",
   "metadata": {
    "scrolled": true
   },
   "outputs": [
    {
     "name": "stdout",
     "output_type": "stream",
     "text": [
      "0 623660345.31 438747790.03\n",
      "1 509862908.3 249803933.63\n",
      "2 485480681.87 194494814.41\n",
      "3 463997011.69 169804841.45\n",
      "4 460969266.57 156295748.81\n",
      "5 460537847.98 149094208.11\n",
      "6 460313099.65 142508531.62\n",
      "7 460003523.89 132303869.41\n",
      "8 459570539.32 117170969.84\n",
      "9 459021103.34 108547377.18\n",
      "10 458490656.19 102237203.32\n",
      "11 457944232.59 98278015.75\n",
      "12 457558005.2 95630226.12\n",
      "13 457290136.35 93793314.05\n",
      "14 457050555.06 92377131.97\n",
      "15 456892235.62 91541606.25\n",
      "16 456703630.74 91045573.83\n",
      "17 456404203.02 90752240.1\n",
      "18 456177800.54 90470170.18\n",
      "19 455986871.03 90216416.18\n"
     ]
    }
   ],
   "source": [
    "# Euclidean distance\n",
    "for i in range (iters):\n",
    "    c1_clust_E = data.map(Euclidean1)\n",
    "    c2_clust_E = data.map(Euclidean2)\n",
    "    c1_cost_E = c1_clust_E.map(lambda x:x[1]).reduce(add)\n",
    "    c2_cost_E = c2_clust_E.map(lambda x:x[1]).reduce(add)\n",
    "    print(i,round(c1_cost_E,2),round(c2_cost_E,2))\n",
    "    new_cen1 = c1_clust_E.map(lambda x:(x[0],x[2])).groupByKey().mapValues(tuple).sortByKey().map(reduce1)\n",
    "    new_cen2 = c2_clust_E.map(lambda x:(x[0],x[2])).groupByKey().mapValues(tuple).sortByKey().map(reduce1)\n",
    "    cen1 = sc.broadcast(new_cen1.collect())\n",
    "    cen2 = sc.broadcast(new_cen2.collect())"
   ]
  },
  {
   "cell_type": "code",
   "execution_count": 14,
   "id": "34ef6912",
   "metadata": {},
   "outputs": [
    {
     "name": "stdout",
     "output_type": "stream",
     "text": [
      "20  455729268.36 90162390.91\n"
     ]
    }
   ],
   "source": [
    "c1_clust_E = data.map(Euclidean1)\n",
    "c2_clust_E = data.map(Euclidean2)\n",
    "c1_cost_E = c1_clust_E.map(lambda x:x[1]).reduce(add)\n",
    "c2_cost_E = c2_clust_E.map(lambda x:x[1]).reduce(add)\n",
    "print(\"20 \",round(c1_cost_E,2) ,round(c2_cost_E,2))"
   ]
  },
  {
   "cell_type": "code",
   "execution_count": 15,
   "id": "83a0a856",
   "metadata": {
    "scrolled": true
   },
   "outputs": [],
   "source": [
    "cen_1 = sc.broadcast(c1.collect())\n",
    "cen_2 = sc.broadcast(c2.collect())"
   ]
  },
  {
   "cell_type": "code",
   "execution_count": 16,
   "id": "fb5544a0",
   "metadata": {
    "scrolled": true
   },
   "outputs": [
    {
     "name": "stdout",
     "output_type": "stream",
     "text": [
      "0 550117.14 1433739.31\n",
      "1 464869.28 1084488.78\n",
      "2 470897.38 973431.71\n",
      "3 483914.41 895934.59\n",
      "4 489216.07 865128.34\n",
      "5 487629.67 845846.65\n",
      "6 483711.92 827219.58\n",
      "7 475330.77 803590.35\n",
      "8 474871.24 756039.52\n",
      "9 457232.92 717332.9\n",
      "10 447494.39 694587.93\n",
      "11 450915.01 684444.5\n",
      "12 451250.37 674574.75\n",
      "13 451974.6 667409.47\n",
      "14 451570.36 663556.63\n",
      "15 452739.01 660162.78\n",
      "16 453082.73 656041.32\n",
      "17 450583.67 653036.75\n",
      "18 450368.75 651112.43\n",
      "19 449011.36 649689.01\n"
     ]
    }
   ],
   "source": [
    "# Manhattan distance\n",
    "for i in range (iters):\n",
    "    c1_clust_M = data.map(Manhattan1)\n",
    "    c2_clust_M = data.map(Manhattan2)\n",
    "    c1_cost_M = c1_clust_M.map(lambda x:x[1]).reduce(add)\n",
    "    c2_cost_M = c2_clust_M.map(lambda x:x[1]).reduce(add)\n",
    "    print(i,round(c1_cost_M,2),round(c2_cost_M,2))\n",
    "    new_cen1 = c1_clust_M.map(lambda x:(x[0],x[2])).groupByKey().mapValues(tuple).sortByKey().map(reduce1)\n",
    "    new_cen2 = c2_clust_M.map(lambda x:(x[0],x[2])).groupByKey().mapValues(tuple).sortByKey().map(reduce1)\n",
    "    cen_1 = sc.broadcast(new_cen1.collect())\n",
    "    cen_2 = sc.broadcast(new_cen2.collect())"
   ]
  },
  {
   "cell_type": "code",
   "execution_count": 17,
   "id": "5ff40ad1",
   "metadata": {},
   "outputs": [
    {
     "name": "stdout",
     "output_type": "stream",
     "text": [
      "20  446770.42 646481.16\n"
     ]
    }
   ],
   "source": [
    "c1_clust_M = data.map(Manhattan1)\n",
    "c2_clust_M = data.map(Manhattan2)\n",
    "c1_cost_M = c1_clust_M.map(lambda x:x[1]).reduce(add)\n",
    "c2_cost_M = c2_clust_M.map(lambda x:x[1]).reduce(add)\n",
    "print(\"20 \",round(c1_cost_M,2),round(c2_cost_M,2))"
   ]
  },
  {
   "cell_type": "markdown",
   "id": "9f0d459a",
   "metadata": {},
   "source": [
    "# Distance between centroid for each version"
   ]
  },
  {
   "cell_type": "code",
   "execution_count": 26,
   "id": "3baa6a98",
   "metadata": {
    "scrolled": true
   },
   "outputs": [
    {
     "name": "stdout",
     "output_type": "stream",
     "text": [
      "0 1 692.16\n",
      "0 2 3490.26\n",
      "0 3 205.75\n",
      "0 4 346.72\n",
      "0 5 512.61\n",
      "0 6 444.73\n",
      "0 7 566.2\n",
      "0 8 1282.77\n",
      "0 9 307.67\n",
      "1 2 2798.8\n",
      "1 3 897.66\n",
      "1 4 1038.83\n",
      "1 5 1204.08\n",
      "1 6 1136.33\n",
      "1 7 1257.45\n",
      "1 8 669.89\n",
      "1 9 412.08\n",
      "2 3 3695.11\n",
      "2 4 3836.91\n",
      "2 5 4002.69\n",
      "2 6 3934.87\n",
      "2 7 4056.14\n",
      "2 8 2294.58\n",
      "2 9 3195.92\n",
      "3 4 142.44\n",
      "3 5 309.51\n",
      "3 6 241.73\n",
      "3 7 363.26\n",
      "3 8 1474.95\n",
      "3 9 504.63\n",
      "4 5 167.15\n",
      "4 6 99.55\n",
      "4 7 220.9\n",
      "4 8 1615.85\n",
      "4 9 646.93\n",
      "5 6 67.91\n",
      "5 7 53.79\n",
      "5 8 1782.2\n",
      "5 9 814.08\n",
      "6 7 121.63\n",
      "6 8 1715.25\n",
      "6 9 746.34\n",
      "7 8 1835.64\n",
      "7 9 867.82\n",
      "8 9 975.32\n"
     ]
    }
   ],
   "source": [
    "# Euclidean strategy+ c1 + Euclidean distance computing\n",
    "for i in range (len(cen1.value)): # num of centroids\n",
    "    for j in range (i+1,len(cen1.value)):\n",
    "        dist = 0\n",
    "        for k in range (len(cen1.value[i])): # num of features\n",
    "            dist += ((cen1.value[i][k]-cen1.value[j][k])**2)\n",
    "        dist = math.sqrt(dist)\n",
    "        print(i,j,round(dist,2))"
   ]
  },
  {
   "cell_type": "code",
   "execution_count": 27,
   "id": "973f8bbe",
   "metadata": {
    "scrolled": true
   },
   "outputs": [
    {
     "name": "stdout",
     "output_type": "stream",
     "text": [
      "0 1 728.92\n",
      "0 2 3797.9\n",
      "0 3 212.18\n",
      "0 4 374.89\n",
      "0 5 577.4\n",
      "0 6 499.16\n",
      "0 7 645.77\n",
      "0 8 1731.06\n",
      "0 9 406.7\n",
      "1 2 3072.89\n",
      "1 3 935.89\n",
      "1 4 1100.83\n",
      "1 5 1303.9\n",
      "1 6 1225.35\n",
      "1 7 1372.09\n",
      "1 8 1005.29\n",
      "1 9 490.93\n",
      "2 3 4001.04\n",
      "2 4 4170.3\n",
      "2 5 4372.79\n",
      "2 6 4294.95\n",
      "2 7 4440.72\n",
      "2 8 2513.42\n",
      "2 9 3396.42\n",
      "3 4 171.37\n",
      "3 5 375.25\n",
      "3 6 296.25\n",
      "3 7 443.5\n",
      "3 8 1934.09\n",
      "3 9 609.75\n",
      "4 5 204.52\n",
      "4 6 125.6\n",
      "4 7 272.93\n",
      "4 8 2102.86\n",
      "4 9 779.4\n",
      "5 6 79.4\n",
      "5 7 69.59\n",
      "5 8 2306.38\n",
      "5 9 983.02\n",
      "6 7 147.87\n",
      "6 8 2227.56\n",
      "6 9 904.37\n",
      "7 8 2374.55\n",
      "7 9 1050.92\n",
      "8 9 1327.58\n"
     ]
    }
   ],
   "source": [
    "# Euclidean strategy+ c1 + Manhattan distance computing\n",
    "for i in range (len(cen1.value)): # num of centroids\n",
    "    for j in range (i+1,len(cen1.value)):\n",
    "        dist = 0\n",
    "        for k in range (len(cen1.value[i])): # num of features\n",
    "            dist += (abs(cen1.value[i][k]-cen1.value[j][k]))\n",
    "        print(i,j,round(dist,2))"
   ]
  },
  {
   "cell_type": "code",
   "execution_count": 28,
   "id": "6b5a9fcd",
   "metadata": {
    "scrolled": true
   },
   "outputs": [
    {
     "name": "stdout",
     "output_type": "stream",
     "text": [
      "0 1 15760.12\n",
      "0 2 14110.83\n",
      "0 3 9045.32\n",
      "0 4 5567.68\n",
      "0 5 1924.62\n",
      "0 6 1100.86\n",
      "0 7 402.89\n",
      "0 8 2105.44\n",
      "0 9 3169.0\n",
      "1 2 11524.51\n",
      "1 3 6743.88\n",
      "1 4 10192.53\n",
      "1 5 14455.12\n",
      "1 6 14682.45\n",
      "1 7 15362.42\n",
      "1 8 13674.71\n",
      "1 9 12597.04\n",
      "2 3 9545.88\n",
      "2 4 10883.38\n",
      "2 5 12233.96\n",
      "2 6 13208.0\n",
      "2 7 13786.48\n",
      "2 8 12508.96\n",
      "2 9 11938.38\n",
      "3 4 3494.22\n",
      "3 5 7718.22\n",
      "3 6 7957.78\n",
      "3 7 8644.81\n",
      "3 8 6947.82\n",
      "3 9 5876.33\n",
      "4 5 4404.56\n",
      "4 6 4492.46\n",
      "4 7 5169.94\n",
      "4 8 3488.16\n",
      "4 9 2407.92\n",
      "5 6 1182.86\n",
      "5 7 1615.79\n",
      "5 8 1313.33\n",
      "5 9 2153.77\n",
      "6 7 698.49\n",
      "6 8 1010.2\n",
      "6 9 2085.46\n",
      "7 8 1702.79\n",
      "7 9 2768.61\n",
      "8 9 1080.53\n"
     ]
    }
   ],
   "source": [
    "# Euclidean strategy+ c2 + Euclidean distance computing\n",
    "for i in range (len(cen2.value)):\n",
    "    for j in range (i+1,len(cen2.value)):\n",
    "        dist = 0\n",
    "        for k in range (len(cen2.value[i])):\n",
    "            dist += ((cen2.value[i][k]-cen2.value[j][k])**2)\n",
    "        dist = math.sqrt(dist)\n",
    "        print(i,j,round(dist,2))"
   ]
  },
  {
   "cell_type": "code",
   "execution_count": 29,
   "id": "e04495ab",
   "metadata": {
    "scrolled": true
   },
   "outputs": [
    {
     "name": "stdout",
     "output_type": "stream",
     "text": [
      "0 1 15772.61\n",
      "0 2 20215.65\n",
      "0 3 9533.17\n",
      "0 4 5604.2\n",
      "0 5 3088.05\n",
      "0 6 1311.04\n",
      "0 7 471.27\n",
      "0 8 2369.41\n",
      "0 9 3349.66\n",
      "1 2 16003.5\n",
      "1 3 7219.2\n",
      "1 4 10221.03\n",
      "1 5 16105.35\n",
      "1 6 14909.17\n",
      "1 7 15434.46\n",
      "1 8 13950.58\n",
      "1 9 12776.88\n",
      "2 3 10690.48\n",
      "2 4 14613.55\n",
      "2 5 17509.9\n",
      "2 6 18912.61\n",
      "2 7 19748.94\n",
      "2 8 17851.81\n",
      "2 9 16873.24\n",
      "3 4 3935.29\n",
      "3 5 8896.39\n",
      "3 6 8228.36\n",
      "3 7 9065.4\n",
      "3 8 7168.73\n",
      "3 9 6190.68\n",
      "4 5 5893.07\n",
      "4 6 4696.98\n",
      "4 7 5221.25\n",
      "4 8 3737.71\n",
      "4 9 2564.17\n",
      "5 6 1781.82\n",
      "5 7 2619.81\n",
      "5 8 2162.8\n",
      "5 9 3337.75\n",
      "6 7 840.72\n",
      "6 8 1068.94\n",
      "6 9 2137.79\n",
      "7 8 1901.21\n",
      "7 9 2883.73\n",
      "8 9 1176.45\n"
     ]
    }
   ],
   "source": [
    "# Euclidean strategy+ c2 + Manhattan distance computing\n",
    "for i in range (len(cen2.value)):\n",
    "    for j in range (i+1,len(cen2.value)):\n",
    "        dist = 0\n",
    "        for k in range (len(cen2.value[i])):\n",
    "            dist += (abs(cen2.value[i][k]-cen2.value[j][k]))\n",
    "        print(i,j,round(dist,2))"
   ]
  },
  {
   "cell_type": "code",
   "execution_count": 30,
   "id": "49a9f758",
   "metadata": {
    "scrolled": true
   },
   "outputs": [
    {
     "name": "stdout",
     "output_type": "stream",
     "text": [
      "0 1 2219.18\n",
      "0 2 9948.04\n",
      "0 3 528.7\n",
      "0 4 413.37\n",
      "0 5 827.72\n",
      "0 6 681.03\n",
      "0 7 917.13\n",
      "0 8 832.15\n",
      "0 9 729.06\n",
      "1 2 7767.95\n",
      "1 3 2734.05\n",
      "1 4 2628.49\n",
      "1 5 3044.48\n",
      "1 6 2898.71\n",
      "1 7 3133.46\n",
      "1 8 1812.45\n",
      "1 9 1491.36\n",
      "2 3 10433.06\n",
      "2 4 10361.37\n",
      "2 5 10773.53\n",
      "2 6 10626.49\n",
      "2 7 10862.97\n",
      "2 8 9340.28\n",
      "2 9 9236.84\n",
      "3 4 221.37\n",
      "3 5 375.16\n",
      "3 6 249.38\n",
      "3 7 457.26\n",
      "3 8 1156.58\n",
      "3 9 1251.16\n",
      "4 5 415.99\n",
      "4 6 270.75\n",
      "4 7 505.07\n",
      "4 8 1171.96\n",
      "4 9 1137.14\n",
      "5 6 147.05\n",
      "5 7 89.49\n",
      "5 8 1529.46\n",
      "5 9 1553.12\n",
      "6 7 236.51\n",
      "6 8 1391.55\n",
      "6 9 1407.4\n",
      "7 8 1613.56\n",
      "7 9 1642.13\n",
      "8 9 709.41\n"
     ]
    }
   ],
   "source": [
    "# Manhattan strategy+ c1 + Euclidean distance computing\n",
    "for i in range (len(cen_1.value)):\n",
    "    for j in range (i+1,len(cen_1.value)):\n",
    "        dist = 0\n",
    "        for k in range (len(cen_1.value[i])):\n",
    "            dist += ((cen_1.value[i][k]-cen_1.value[j][k])**2)\n",
    "        dist = math.sqrt(dist)\n",
    "        print(i,j,round(dist,2))"
   ]
  },
  {
   "cell_type": "code",
   "execution_count": 31,
   "id": "0ef92290",
   "metadata": {
    "scrolled": true
   },
   "outputs": [
    {
     "name": "stdout",
     "output_type": "stream",
     "text": [
      "0 1 2341.02\n",
      "0 2 11929.3\n",
      "0 3 651.19\n",
      "0 4 496.33\n",
      "0 5 947.74\n",
      "0 6 770.74\n",
      "0 7 1056.8\n",
      "0 8 1260.51\n",
      "0 9 737.71\n",
      "1 2 9597.44\n",
      "1 3 2778.95\n",
      "1 4 2830.14\n",
      "1 5 3280.36\n",
      "1 6 3104.29\n",
      "1 7 3388.98\n",
      "1 8 2380.46\n",
      "1 9 1605.27\n",
      "2 3 12323.29\n",
      "2 4 12421.26\n",
      "2 5 12871.48\n",
      "2 6 12695.55\n",
      "2 7 12979.13\n",
      "2 8 10775.94\n",
      "2 9 11196.79\n",
      "3 4 335.95\n",
      "3 5 558.47\n",
      "3 6 382.46\n",
      "3 7 667.53\n",
      "3 8 1653.83\n",
      "3 9 1379.17\n",
      "4 5 452.86\n",
      "4 6 276.33\n",
      "4 7 561.85\n",
      "4 8 1755.11\n",
      "4 9 1226.66\n",
      "5 6 177.59\n",
      "5 7 110.22\n",
      "5 8 2205.31\n",
      "5 9 1677.67\n",
      "6 7 287.43\n",
      "6 8 2028.9\n",
      "6 9 1500.99\n",
      "7 8 2314.67\n",
      "7 9 1786.81\n",
      "8 9 1006.37\n"
     ]
    }
   ],
   "source": [
    "# Manhattan strategy+ c1 + Manhattan distance computing\n",
    "for i in range (len(cen_1.value)):\n",
    "    for j in range (i+1,len(cen_1.value)):\n",
    "        dist = 0\n",
    "        for k in range (len(cen_1.value[i])):\n",
    "            dist += (abs(cen_1.value[i][k]-cen_1.value[j][k]))\n",
    "        print(i,j,round(dist,2))"
   ]
  },
  {
   "cell_type": "code",
   "execution_count": 32,
   "id": "2937d47f",
   "metadata": {
    "scrolled": true
   },
   "outputs": [
    {
     "name": "stdout",
     "output_type": "stream",
     "text": [
      "0 1 15747.23\n",
      "0 2 14100.14\n",
      "0 3 9032.33\n",
      "0 4 5554.79\n",
      "0 5 2006.7\n",
      "0 6 1338.16\n",
      "0 7 514.63\n",
      "0 8 1571.24\n",
      "0 9 3022.66\n",
      "1 2 11524.51\n",
      "1 3 6743.88\n",
      "1 4 10192.53\n",
      "1 5 14474.55\n",
      "1 6 14412.06\n",
      "1 7 15239.88\n",
      "1 8 14328.23\n",
      "1 9 12731.4\n",
      "2 3 9545.88\n",
      "2 4 10883.38\n",
      "2 5 12167.79\n",
      "2 6 13125.35\n",
      "2 7 13684.61\n",
      "2 8 12643.99\n",
      "2 9 12006.39\n",
      "3 4 3494.22\n",
      "3 5 7742.63\n",
      "3 6 7694.28\n",
      "3 7 8521.2\n",
      "3 8 7588.4\n",
      "3 9 6009.82\n",
      "4 5 4452.97\n",
      "4 6 4219.76\n",
      "4 7 5047.52\n",
      "4 8 4167.64\n",
      "4 9 2542.57\n",
      "5 6 1405.11\n",
      "5 7 1637.73\n",
      "5 8 910.99\n",
      "5 9 2124.26\n",
      "6 7 827.84\n",
      "6 8 566.55\n",
      "6 9 1684.52\n",
      "7 8 1081.38\n",
      "7 9 2511.46\n",
      "8 9 1649.39\n"
     ]
    }
   ],
   "source": [
    "# Manhattan strategy+ c2 + Euclidean distance computing\n",
    "for i in range (len(cen_2.value)):\n",
    "    for j in range (i+1,len(cen_2.value)):\n",
    "        dist = 0\n",
    "        for k in range (len(cen_2.value[i])):\n",
    "            dist += ((cen_2.value[i][k]-cen_2.value[j][k])**2)\n",
    "        dist = math.sqrt(dist)\n",
    "        print(i,j,round(dist,2))"
   ]
  },
  {
   "cell_type": "code",
   "execution_count": 33,
   "id": "66d92057",
   "metadata": {
    "scrolled": true
   },
   "outputs": [
    {
     "name": "stdout",
     "output_type": "stream",
     "text": [
      "0 1 15757.69\n",
      "0 2 20200.26\n",
      "0 3 9517.67\n",
      "0 4 5588.85\n",
      "0 5 3281.49\n",
      "0 6 1430.21\n",
      "0 7 602.95\n",
      "0 8 2102.55\n",
      "0 9 3211.46\n",
      "1 2 16003.5\n",
      "1 3 7219.2\n",
      "1 4 10221.03\n",
      "1 5 16325.27\n",
      "1 6 14506.49\n",
      "1 7 15335.96\n",
      "1 8 14980.06\n",
      "1 9 12922.93\n",
      "2 3 10690.48\n",
      "2 4 14613.55\n",
      "2 5 17521.52\n",
      "2 6 18775.12\n",
      "2 7 19602.26\n",
      "2 8 18111.89\n",
      "2 9 16995.13\n",
      "3 4 3935.29\n",
      "3 5 9116.02\n",
      "3 6 8090.51\n",
      "3 7 8918.81\n",
      "3 8 7771.22\n",
      "3 9 6312.53\n",
      "4 5 6110.83\n",
      "4 6 4293.5\n",
      "4 7 5123.07\n",
      "4 8 4768.92\n",
      "4 9 2710.06\n",
      "5 6 1855.58\n",
      "5 7 2682.57\n",
      "5 8 1358.8\n",
      "5 9 3413.04\n",
      "6 7 833.43\n",
      "6 8 674.83\n",
      "6 9 1784.51\n",
      "7 8 1500.82\n",
      "7 9 2614.0\n",
      "8 9 2062.25\n"
     ]
    }
   ],
   "source": [
    "# Manhattan strategy + c2 + Manhattan distance computing\n",
    "for i in range (len(cen_2.value)):\n",
    "    for j in range (i+1,len(cen_2.value)):\n",
    "        dist = 0\n",
    "        for k in range (len(cen_2.value[i])):\n",
    "            dist += (abs(cen_2.value[i][k]-cen_2.value[j][k]))\n",
    "        print(i,j,round(dist,2))"
   ]
  },
  {
   "cell_type": "code",
   "execution_count": null,
   "id": "d5800502",
   "metadata": {},
   "outputs": [],
   "source": []
  }
 ],
 "metadata": {
  "kernelspec": {
   "display_name": "Python 3",
   "language": "python",
   "name": "python3"
  },
  "language_info": {
   "codemirror_mode": {
    "name": "ipython",
    "version": 3
   },
   "file_extension": ".py",
   "mimetype": "text/x-python",
   "name": "python",
   "nbconvert_exporter": "python",
   "pygments_lexer": "ipython3",
   "version": "3.6.8"
  }
 },
 "nbformat": 4,
 "nbformat_minor": 5
}
